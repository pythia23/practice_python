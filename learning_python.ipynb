{
  "nbformat": 4,
  "nbformat_minor": 0,
  "metadata": {
    "colab": {
      "name": "learning_python.ipynb",
      "provenance": [],
      "authorship_tag": "ABX9TyOuO+qpxWSOn/ygZdJw5jvG",
      "include_colab_link": true
    },
    "kernelspec": {
      "name": "python3",
      "display_name": "Python 3"
    },
    "language_info": {
      "name": "python"
    }
  },
  "cells": [
    {
      "cell_type": "markdown",
      "metadata": {
        "id": "view-in-github",
        "colab_type": "text"
      },
      "source": [
        "<a href=\"https://colab.research.google.com/github/pythia23/practice_python/blob/main/learning_python.ipynb\" target=\"_parent\"><img src=\"https://colab.research.google.com/assets/colab-badge.svg\" alt=\"Open In Colab\"/></a>"
      ]
    },
    {
      "cell_type": "markdown",
      "metadata": {
        "id": "ZOYE5lpxJjgX"
      },
      "source": [
        "1. Why use Python?\n",
        "\n",
        "\n",
        "---\n",
        "\n",
        "\n",
        "Python is one of the most commonly used programming languages for several reasons.\n",
        "1.   Easy to learn\n",
        "2.   Easy to read\n",
        "3.   More concise code\n",
        "4.   Versatile\n",
        "\n",
        "\n",
        "\n"
      ]
    },
    {
      "cell_type": "code",
      "metadata": {
        "id": "feB9RB0wJfq8"
      },
      "source": [
        ""
      ],
      "execution_count": null,
      "outputs": []
    },
    {
      "cell_type": "markdown",
      "metadata": {
        "id": "POtz492nLvYV"
      },
      "source": [
        "2. How to get Python\n",
        "\n",
        "\n",
        "---\n",
        "sfsfsfs\n"
      ]
    }
  ]
}