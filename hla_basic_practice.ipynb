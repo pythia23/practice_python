{
  "nbformat": 4,
  "nbformat_minor": 0,
  "metadata": {
    "colab": {
      "name": "hla_np_practice.ipynb",
      "provenance": [],
      "collapsed_sections": [],
      "authorship_tag": "ABX9TyNuRgTFzlzjaKVnmxWrG2NR",
      "include_colab_link": true
    },
    "kernelspec": {
      "name": "python3",
      "display_name": "Python 3"
    },
    "language_info": {
      "name": "python"
    }
  },
  "cells": [
    {
      "cell_type": "markdown",
      "metadata": {
        "id": "view-in-github",
        "colab_type": "text"
      },
      "source": [
        "<a href=\"https://colab.research.google.com/github/pythia23/practice_python/blob/main/hla_basic_practice.ipynb\" target=\"_parent\"><img src=\"https://colab.research.google.com/assets/colab-badge.svg\" alt=\"Open In Colab\"/></a>"
      ]
    },
    {
      "cell_type": "markdown",
      "metadata": {
        "id": "B_bw3m8AgRyM"
      },
      "source": [
        "Plotting HLA allele and protein variations"
      ]
    },
    {
      "cell_type": "code",
      "metadata": {
        "colab": {
          "base_uri": "https://localhost:8080/"
        },
        "id": "ujPmY-dRgoJw",
        "outputId": "a40cbdc7-047f-4fcf-8645-258c6a96f3c6"
      },
      "source": [
        "#HLA class 1 alleles: A, B, C\n",
        "#Each HLA class I molecule consists of 1 alpha chain and 1 invariant beta microglobuliin\n",
        "hla_a=4264\n",
        "print(\"Number of possible HLA-A molecules = \" + str(hla_a))\n",
        "hla_b=5240\n",
        "print(\"Number of possible HLA-B molecules = \" + str(hla_b))\n",
        "hla_c=3953\n",
        "print(\"Number of possible HLA-C molecules = \" + str(hla_c))\n",
        "\n",
        "hla1_variants=hla_a+hla_b+hla_c\n",
        "hla1_variants_scientific=\"{0:.2E}\".format(hla1_variants)\n",
        "hla1_haplotypes=hla_a*hla_b*hla_c\n",
        "hla1_haplotypes_scientific=\"{0:.2E}\".format(hla1_haplotypes)\n",
        "print(\"Number of possible HLA class 1 molecules= \" + str(hla1_variants))\n",
        "print(\"Number of possible HLA class 1 haplotypes = \" + str(hla1_haplotypes_scientific))\n",
        "\n",
        "#HLA class 2 alleles: DR, DQ, DP\n",
        "#HLA-DR (DRA is invariant, all have DRB1, some may have 1 of DRB3-5)\n",
        "hla_dra=1\n",
        "hla_drb1=2079\n",
        "hla_drb2=0\n",
        "hla_drb3=306\n",
        "hla_drb4=134\n",
        "hla_drb5=125\n",
        "hla_drb6=0\n",
        "hla_drb7=0\n",
        "hla_drb8=0\n",
        "hla_drb9=0\n",
        "\n",
        "hla_dr_variants=hla_dra*(hla_drb1*(hla_drb2+hla_drb3+hla_drb4+hla_drb5))\n",
        "print(\"Number of possible HLA-DR molecules = \" + str(hla_dr_variants))\n",
        "\n",
        "#HLA-DQ\n",
        "hla_dqa1=185\n",
        "hla_dqa2=0\n",
        "hla_dqb1=1366\n",
        "\n",
        "hla_dq_variants=(hla_dqa1+hla_dqa2)*hla_dqb1\n",
        "print(\"Number of possible HLA-DQ molecules = \" + str(hla_dq_variants))\n",
        "\n",
        "#HLA-DP\n",
        "hla_dpa1=147\n",
        "hla_dpa2=0\n",
        "hla_dpb1=1189\n",
        "hla_dpb2=0\n",
        "hla_dp_variants=(hla_dpa1+hla_dpa2)*(hla_dpb1+hla_dpb2)\n",
        "print(\"Number of possible HLA-DQ molecules = \" + str(hla_dp_variants))\n",
        "\n",
        "\n",
        "hla2_variants=hla_dr_variants+hla_dq_variants+hla_dp_variants\n",
        "hla2_variants_scientific=\"{0:.2E}\".format(hla2_variants)\n",
        "hla2_haplotypes=hla_dr_variants*hla_dq_variants*hla_dp_variants\n",
        "hla2_haplotypes_scientific=\"{0:.2E}\".format(hla2_haplotypes)\n",
        "print(\"Number of possible HLA class 2 molecules= \" + str(hla2_variants))\n",
        "print(\"Number of possible HLA class 2 molecules= \" + str(hla2_variants_scientific))\n",
        "print(\"Number of possible HLA class 2 haplotypes = \" + str(hla2_haplotypes_scientific))"
      ],
      "execution_count": 1,
      "outputs": [
        {
          "output_type": "stream",
          "name": "stdout",
          "text": [
            "Number of possible HLA-A molecules = 4264\n",
            "Number of possible HLA-B molecules = 5240\n",
            "Number of possible HLA-C molecules = 3953\n",
            "Number of possible HLA class 1 molecules= 13457\n",
            "Number of possible HLA class 1 haplotypes = 8.83E+10\n",
            "Number of possible HLA-DR molecules = 1174635\n",
            "Number of possible HLA-DQ molecules = 252710\n",
            "Number of possible HLA-DQ molecules = 174783\n",
            "Number of possible HLA class 2 molecules= 1602128\n",
            "Number of possible HLA class 2 molecules= 1.60E+06\n",
            "Number of possible HLA class 2 haplotypes = 5.19E+16\n"
          ]
        }
      ]
    },
    {
      "cell_type": "code",
      "metadata": {
        "colab": {
          "base_uri": "https://localhost:8080/"
        },
        "id": "eW7Io1nfgFE8",
        "outputId": "aa2bd106-f489-4fbb-d3ac-cf870e575ab6"
      },
      "source": [
        "hla_class1 = (hla_a,hla_b,hla_c)\n",
        "print(type(hla_class1))\n",
        "print(\"hla_class1 = \"+str(hla_class1))\n",
        "print(hla_class1[0])\n",
        "print(hla_class1[2])\n",
        "print(hla_class1[-2])\n",
        "#Subsetting\n",
        "print(hla_class1[0:])\n",
        "print(hla_class1[0:1])\n",
        "print(hla_class1[0:2])\n",
        "print(hla_class1[1:])\n"
      ],
      "execution_count": 20,
      "outputs": [
        {
          "output_type": "stream",
          "name": "stdout",
          "text": [
            "<class 'tuple'>\n",
            "hla_class1 = (4264, 5240, 3953)\n",
            "4264\n",
            "3953\n",
            "5240\n",
            "(4264, 5240, 3953)\n",
            "(4264,)\n",
            "(4264, 5240)\n",
            "(5240, 3953)\n"
          ]
        }
      ]
    },
    {
      "cell_type": "code",
      "metadata": {
        "colab": {
          "base_uri": "https://localhost:8080/"
        },
        "id": "6X89VO4zlajw",
        "outputId": "9a04eb69-e4de-4ae8-ee12-f7ce8238daf0"
      },
      "source": [
        "hla_class1_sorted = sorted(hla_class1)\n",
        "print(hla_class1_sorted)\n",
        "print(sorted(hla_class1,reverse=True))\n",
        "print(max(hla_class1))\n",
        "print(min(hla_class1))"
      ],
      "execution_count": 16,
      "outputs": [
        {
          "output_type": "stream",
          "name": "stdout",
          "text": [
            "[3953, 4264, 5240]\n",
            "[5240, 4264, 3953]\n",
            "5240\n",
            "3953\n"
          ]
        }
      ]
    },
    {
      "cell_type": "code",
      "metadata": {
        "colab": {
          "base_uri": "https://localhost:8080/"
        },
        "id": "sgTgUczgl4X9",
        "outputId": "e93f7dc8-054f-427b-a16c-19bb0b31ad8e"
      },
      "source": [
        "print(len(hla_class1))"
      ],
      "execution_count": 17,
      "outputs": [
        {
          "output_type": "stream",
          "name": "stdout",
          "text": [
            "3\n"
          ]
        }
      ]
    },
    {
      "cell_type": "code",
      "metadata": {
        "colab": {
          "base_uri": "https://localhost:8080/",
          "height": 181
        },
        "id": "jSBB05m-l9Rv",
        "outputId": "9ab36697-7d83-4b24-b4fd-04dc0fbd4eb5"
      },
      "source": [
        "hla_class1 = (hla_a,hla_b,hla_c)\n"
      ],
      "execution_count": 22,
      "outputs": [
        {
          "output_type": "error",
          "ename": "ValueError",
          "evalue": "ignored",
          "traceback": [
            "\u001b[0;31m---------------------------------------------------------------------------\u001b[0m",
            "\u001b[0;31mValueError\u001b[0m                                Traceback (most recent call last)",
            "\u001b[0;32m<ipython-input-22-c40e78ba5100>\u001b[0m in \u001b[0;36m<module>\u001b[0;34m()\u001b[0m\n\u001b[1;32m      1\u001b[0m \u001b[0mhla_class1\u001b[0m \u001b[0;34m=\u001b[0m \u001b[0;34m(\u001b[0m\u001b[0mhla_a\u001b[0m\u001b[0;34m,\u001b[0m\u001b[0mhla_b\u001b[0m\u001b[0;34m,\u001b[0m\u001b[0mhla_c\u001b[0m\u001b[0;34m)\u001b[0m\u001b[0;34m\u001b[0m\u001b[0;34m\u001b[0m\u001b[0m\n\u001b[0;32m----> 2\u001b[0;31m \u001b[0mhla_class1\u001b[0m\u001b[0;34m.\u001b[0m\u001b[0mindex\u001b[0m\u001b[0;34m(\u001b[0m\u001b[0;36m1\u001b[0m\u001b[0;34m)\u001b[0m\u001b[0;34m\u001b[0m\u001b[0;34m\u001b[0m\u001b[0m\n\u001b[0m",
            "\u001b[0;31mValueError\u001b[0m: tuple.index(x): x not in tuple"
          ]
        }
      ]
    },
    {
      "cell_type": "code",
      "metadata": {
        "colab": {
          "base_uri": "https://localhost:8080/"
        },
        "id": "uU-Xl7rtgnB2",
        "outputId": "5cb3af79-6c51-4edb-837e-d3bd2c790620"
      },
      "source": [
        "print(22/7)\n",
        "print(round(22/7,2))"
      ],
      "execution_count": 9,
      "outputs": [
        {
          "output_type": "stream",
          "name": "stdout",
          "text": [
            "3.142857142857143\n",
            "3.14\n"
          ]
        }
      ]
    },
    {
      "cell_type": "code",
      "metadata": {
        "colab": {
          "base_uri": "https://localhost:8080/"
        },
        "id": "jhZ54REIjp7e",
        "outputId": "552c416f-30da-42ed-90d9-2c7aac61c249"
      },
      "source": [
        "types_hla='hla class 1 and hla class 2'\n",
        "print(types_hla.capitalize())\n",
        "print(types_hla.upper())\n"
      ],
      "execution_count": 10,
      "outputs": [
        {
          "output_type": "stream",
          "name": "stdout",
          "text": [
            "Hla class 1 and hla class 2\n",
            "HLA CLASS 1 AND HLA CLASS 2\n"
          ]
        }
      ]
    },
    {
      "cell_type": "code",
      "metadata": {
        "colab": {
          "base_uri": "https://localhost:8080/"
        },
        "id": "m8uudVL3j-Vj",
        "outputId": "1032767f-193a-4e62-c067-4aa4f6419910"
      },
      "source": [
        "import numpy as np\n",
        "hla1 = np.array([hla_a,hla_b,hla_c])\n",
        "print(hla1)"
      ],
      "execution_count": 13,
      "outputs": [
        {
          "output_type": "stream",
          "name": "stdout",
          "text": [
            "[4264 5240 3953]\n"
          ]
        }
      ]
    }
  ]
}